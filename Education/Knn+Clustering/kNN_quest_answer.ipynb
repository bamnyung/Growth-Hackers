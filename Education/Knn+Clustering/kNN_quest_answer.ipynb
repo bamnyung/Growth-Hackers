{
 "cells": [
  {
   "cell_type": "code",
   "execution_count": 1,
   "metadata": {},
   "outputs": [
    {
     "name": "stdout",
     "output_type": "stream",
     "text": [
      "1934\n"
     ]
    },
    {
     "data": {
      "text/plain": [
       "<Figure size 640x480 with 1 Axes>"
      ]
     },
     "metadata": {},
     "output_type": "display_data"
    },
    {
     "name": "stdout",
     "output_type": "stream",
     "text": [
      "1\n",
      "0.9841437632135307\n"
     ]
    }
   ],
   "source": [
    "import numpy as np\n",
    "from os import listdir\n",
    "import matplotlib.pyplot as plt\n",
    "import sklearn\n",
    "from sklearn.neighbors import KNeighborsClassifier\n",
    "from sklearn.model_selection import train_test_split\n",
    "\n",
    "training_file_list = listdir('trainingDigits')\n",
    "print(len(training_file_list))\n",
    "\n",
    "# 1. 파일명을 인자로 받아서 (1, 1024) 백터를 반환하는 함수를 정의하세요.\n",
    "\n",
    "def buildData(filename):\n",
    "    training_file_list=listdir(filename)\n",
    "    data=[]\n",
    "    for i in range(len(training_file_list)):\n",
    "        with open(filename+\"/\"+training_file_list[i]) as file:\n",
    "            txtfile=[]\n",
    "            for line in file.readlines():\n",
    "                linestr=line.strip()\n",
    "                for j in range(len(linestr)):\n",
    "                    txtfile.append(int(linestr[j]))\n",
    "        data.append(txtfile)\n",
    "    return data\n",
    "data = buildData('trainingDigits')\n",
    "\n",
    "\n",
    "# 2. 파일명을 인자로 받아서 Y값을 반환하는 함수를 정의하세요.\n",
    "\n",
    "def buildY(filename):\n",
    "    training_file_list=listdir(filename)\n",
    "    return list(map(lambda x: int(x[0]), training_file_list))\n",
    "Y = buildY('trainingDigits')\n",
    "\n",
    "\n",
    "# 3. 데이터를 X_train, y_train, X_test, y_test로 나누세요.\n",
    "\n",
    "X_train, X_test, y_train, y_test = train_test_split(data, Y, test_size=0.3, random_state=10)\n",
    "y_train = np.array(y_train).astype(np.int32)\n",
    "y_test = np.array(y_test).astype(np.int32)\n",
    "\n",
    "\n",
    "# 4. 1~10의 k에 대해 KNN을 시행하고 테스트셋에 대한 스코어를 그래프로 그리세요 (sklearn 이용)\n",
    "\n",
    "knn_k = []\n",
    "for i in range(10) :\n",
    "    knn = KNeighborsClassifier(n_neighbors=i+1)\n",
    "    knn.fit(X_train, y_train)\n",
    "    knn_k.append(knn.score(X_test, y_test))\n",
    "\n",
    "plt.scatter(range(1,11), knn_k)\n",
    "plt.show()\n",
    "K=0\n",
    "for i in range(10):\n",
    "    if(knn_k[i]>knn_k[K]):\n",
    "        K=i\n",
    "K+=1\n",
    "print(K)\n",
    "\n",
    "\n",
    "# 5. 최적의 K로 testdata에 넣어 정확도 측정\n",
    "\n",
    "\n",
    "testX = np.array(buildData('testDigits'))\n",
    "testY = np.array(buildY('testDigits'))\n",
    "knn = KNeighborsClassifier(n_neighbors=K)\n",
    "knn.fit(X_train, y_train)\n",
    "test_pred = knn.predict(testX)\n",
    "accuracy = np.mean(np.array(testY).astype(np.int32)== test_pred)\n",
    "print(accuracy)\n",
    "\n"
   ]
  }
 ],
 "metadata": {
  "kernelspec": {
   "display_name": "Python 3",
   "language": "python",
   "name": "python3"
  },
  "language_info": {
   "codemirror_mode": {
    "name": "ipython",
    "version": 3
   },
   "file_extension": ".py",
   "mimetype": "text/x-python",
   "name": "python",
   "nbconvert_exporter": "python",
   "pygments_lexer": "ipython3",
   "version": "3.6.5"
  }
 },
 "nbformat": 4,
 "nbformat_minor": 2
}
